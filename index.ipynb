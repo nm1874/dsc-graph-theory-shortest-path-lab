{
 "cells": [
  {
   "cell_type": "markdown",
   "metadata": {},
   "source": [
    "# Graph Theory: Simple and Shortest Paths - Lab\n",
    "\n",
    "## Introduction\n",
    "\n",
    "In this lab you'll take the concepts from the previous lesson and code them from scratch yourself! You'll start by unpacking Dijkstra's algorithm and write an implementation to find the shortest path between two nodes. From there, you'll expand on the initial function in order to return the path itself and create a visualization to better understand the underlying process.\n",
    "\n",
    "## Objectives\n",
    "You will be able to:\n",
    "* Understand and explain simple paths and shortest paths\n",
    "* Calculate simple and shortest paths for undirected, directed and weighted graphs\n",
    "* Explain Dijkstra Algorithm and calculate the shortest path using this algorithm in networkx\n",
    "* Code Dijkstra's Algorithm from scratch\n",
    "* Customize network visualizations"
   ]
  },
  {
   "cell_type": "markdown",
   "metadata": {},
   "source": [
    "## Importing Packages"
   ]
  },
  {
   "cell_type": "code",
   "execution_count": 1,
   "metadata": {
    "collapsed": true
   },
   "outputs": [],
   "source": [
    "import networkx as nx\n",
    "import matplotlib.pyplot as plt\n",
    "import numpy as np\n",
    "%matplotlib inline"
   ]
  },
  {
   "cell_type": "markdown",
   "metadata": {},
   "source": [
    "## Regenerating the [Small World] Network\n",
    "\n",
    "To start, here's the network from the previous lesson:"
   ]
  },
  {
   "cell_type": "code",
   "execution_count": 4,
   "metadata": {},
   "outputs": [
    {
     "ename": "TypeError",
     "evalue": "random_layout() got an unexpected keyword argument 'seed'",
     "output_type": "error",
     "traceback": [
      "\u001b[1;31m---------------------------------------------------------------------------\u001b[0m",
      "\u001b[1;31mTypeError\u001b[0m                                 Traceback (most recent call last)",
      "\u001b[1;32m<ipython-input-4-81354cb9d233>\u001b[0m in \u001b[0;36m<module>\u001b[1;34m()\u001b[0m\n\u001b[0;32m      1\u001b[0m \u001b[0mG\u001b[0m \u001b[1;33m=\u001b[0m \u001b[0mnx\u001b[0m\u001b[1;33m.\u001b[0m\u001b[0mnavigable_small_world_graph\u001b[0m\u001b[1;33m(\u001b[0m\u001b[1;36m3\u001b[0m\u001b[1;33m,\u001b[0m \u001b[0mseed\u001b[0m\u001b[1;33m=\u001b[0m\u001b[1;36m3\u001b[0m\u001b[1;33m)\u001b[0m\u001b[1;33m\u001b[0m\u001b[0m\n\u001b[0;32m      2\u001b[0m \u001b[0mG\u001b[0m \u001b[1;33m=\u001b[0m \u001b[0mnx\u001b[0m\u001b[1;33m.\u001b[0m\u001b[0mrelabel_nodes\u001b[0m\u001b[1;33m(\u001b[0m\u001b[0mG\u001b[0m\u001b[1;33m,\u001b[0m \u001b[0mdict\u001b[0m\u001b[1;33m(\u001b[0m\u001b[0mzip\u001b[0m\u001b[1;33m(\u001b[0m\u001b[0mG\u001b[0m\u001b[1;33m.\u001b[0m\u001b[0mnodes\u001b[0m\u001b[1;33m,\u001b[0m \u001b[1;33m[\u001b[0m\u001b[1;34m\"A\"\u001b[0m\u001b[1;33m,\u001b[0m \u001b[1;34m\"B\"\u001b[0m\u001b[1;33m,\u001b[0m \u001b[1;34m\"C\"\u001b[0m\u001b[1;33m,\u001b[0m \u001b[1;34m\"D\"\u001b[0m\u001b[1;33m,\u001b[0m \u001b[1;34m\"E\"\u001b[0m\u001b[1;33m,\u001b[0m \u001b[1;34m\"F\"\u001b[0m\u001b[1;33m,\u001b[0m \u001b[1;34m\"G\"\u001b[0m\u001b[1;33m,\u001b[0m \u001b[1;34m\"H\"\u001b[0m\u001b[1;33m,\u001b[0m \u001b[1;34m\"I\"\u001b[0m\u001b[1;33m]\u001b[0m\u001b[1;33m)\u001b[0m\u001b[1;33m)\u001b[0m\u001b[1;33m)\u001b[0m\u001b[1;33m\u001b[0m\u001b[0m\n\u001b[1;32m----> 3\u001b[1;33m nx.draw(G, pos=nx.random_layout(G, seed=9), with_labels=True, node_color=\"#1cf0c7\",\n\u001b[0m\u001b[0;32m      4\u001b[0m         node_size=500, font_weight=\"bold\", width=2, alpha=.8)\n",
      "\u001b[1;31mTypeError\u001b[0m: random_layout() got an unexpected keyword argument 'seed'"
     ]
    }
   ],
   "source": [
    "G = nx.navigable_small_world_graph(3, seed=3)\n",
    "G = nx.relabel_nodes(G, dict(zip(G.nodes, [\"A\", \"B\", \"C\", \"D\", \"E\", \"F\", \"G\", \"H\", \"I\"])))\n",
    "nx.draw(G, pos=nx.random_layout(G, seed=9), with_labels=True, node_color=\"#1cf0c7\",\n",
    "        node_size=500, font_weight=\"bold\", width=2, alpha=.8)"
   ]
  },
  {
   "cell_type": "markdown",
   "metadata": {},
   "source": [
    "## Dijkstra's Algorithm\n",
    "\n",
    "As a helpful reference, here's the description of Dijkstra's Algorithm from the previous lesson:\n",
    "\n",
    "\n",
    "Dijkstra's algorithm is essentially a depth based search. It commences at the starting node, spanning out to neighboring nodes and in turn visiting their neighbors in search of the destination. More formally, here's a general pseudocode outline for the algorithm:\n",
    "\n",
    "1. Mark all nodes as unvisited\n",
    "2. Set the distance of the starting node as 0, and $\\infty$ for all other nodes\n",
    "3. Set the starting node as the current node\n",
    "4. Visit each of the neighbors of the current node\n",
    "    1. For each neighbor, calculate the distance to that node traveling through the current node\n",
    "    2. If this distance is less then the current distance recorded for that node, update the record accordingly\n",
    "5. Mark the current node as \"visited\"\n",
    "6. Of the unvisited nodes, set the one with the smallest distance to the current node\n",
    "7. Repeat steps 4 through 6 until one of the following:\n",
    "    1. The algorithm terminates when the destination node is the current node\n",
    "    2. Alternatively, if the the smallest distance of the unvisited nodes is $\\infty$, then no path exists to the destination node. \n",
    "\n",
    "> Note: Dijkstra's algorithm (and NetworkX's implementations demonstrated above) returns a single path. In many cases, there may be multiple paths which are tied for the shortest distance between two nodes. In such cases, it is arbitrary which path is returned."
   ]
  },
  {
   "cell_type": "markdown",
   "metadata": {},
   "source": [
    "## Coding Dijkstra's Algorithm Part 1\n",
    "\n",
    "Implement a function to perform Dijkstra's algorithm. The function should take in three parameters: the graph G, the starting node u, and the destination node v. From there, return the minimum distance between nodes u and v. In the case that there is no path connecting u and v, printout an appropriate notification and return a null value."
   ]
  },
  {
   "cell_type": "code",
   "execution_count": 6,
   "metadata": {
    "collapsed": true
   },
   "outputs": [],
   "source": [
    "def dijkstra(G, u, v):\n",
    "    #Your code here\n",
    "    \"\"\"G is the graph in question.\n",
    "    u is the starting node\n",
    "    v is the destination node\n",
    "    \"\"\"\n",
    "    visited = set()\n",
    "    unvisited = set(G.nodes)\n",
    "    distances = {u:0}\n",
    "    for node in unvisited:\n",
    "        if node == u:\n",
    "            continue\n",
    "        else:\n",
    "            distances[node] = np.inf\n",
    "    cur_node = u\n",
    "    weight = 1 #set default weight for non-weighted graphs\n",
    "    while len(unvisited)>0:\n",
    "        if cur_node == v:\n",
    "            break\n",
    "        if min([distances[node] for node in unvisited]) == np.inf:\n",
    "            print(\"There is no path between u and v.\")\n",
    "            return np.nan\n",
    "        #Pull up neighbors\n",
    "        neighbors = G[cur_node]\n",
    "        for node in neighbors:\n",
    "            #Future update:Add weight update for weighted graphs\n",
    "            #Set either the distance through the current node or a previous shorter path\n",
    "            distances[node] = min(distances[cur_node] + weight, distances[node])\n",
    "        #Mark current node as visited\n",
    "        visited.add(cur_node)\n",
    "        unvisited.remove(cur_node)\n",
    "        cur_node = sorted([(node, distances[node]) for node in unvisited], key=lambda x:x[1])[0][0] #Set the node with the minimum distance as the current node\n",
    "    return distances[v]"
   ]
  },
  {
   "cell_type": "markdown",
   "metadata": {},
   "source": [
    "Test out your function on a couple of node pairs, and compare the output to that of NetworkX's built in implementation to verify your results."
   ]
  },
  {
   "cell_type": "code",
   "execution_count": 7,
   "metadata": {},
   "outputs": [
    {
     "data": {
      "text/plain": [
       "2"
      ]
     },
     "execution_count": 7,
     "metadata": {},
     "output_type": "execute_result"
    }
   ],
   "source": [
    "#Test your function here\n",
    "dijkstra(G, \"F\", \"G\")"
   ]
  },
  {
   "cell_type": "code",
   "execution_count": 8,
   "metadata": {},
   "outputs": [
    {
     "data": {
      "text/plain": [
       "2"
      ]
     },
     "execution_count": 8,
     "metadata": {},
     "output_type": "execute_result"
    }
   ],
   "source": [
    "#Compare to NetworkX's built in method\n",
    "nx.dijkstra_path_length(G, \"F\", \"G\")"
   ]
  },
  {
   "cell_type": "markdown",
   "metadata": {},
   "source": [
    "## Coding Dijkstra's Algorithm Part 2\n",
    "\n",
    "Now, update your algorithm to not only return the minimum distance between the two points, but a list of nodes outlining the directions for the shortest path from the starting node to the destination node. The direction list of nodes should start with the starting node, and end with the destination node, with intermediate step nodes in between. For example, just like the built in method from NetworkX, \n",
    "\n",
    "```python\n",
    "nx.dijkstra_path(G, \"I\", \"A\")\n",
    "```\n",
    "should return \n",
    "\n",
    "```python\n",
    "['I', 'G', 'C', 'A']\n",
    "```\n"
   ]
  },
  {
   "cell_type": "code",
   "execution_count": 9,
   "metadata": {
    "collapsed": true
   },
   "outputs": [],
   "source": [
    "#Your code here\n",
    "def dijkstra(G, u, v, return_path_directions=True):\n",
    "    #Your code here\n",
    "    \"\"\"G is the graph in question.\n",
    "    u is the starting node\n",
    "    v is the destination node\n",
    "    \"\"\"\n",
    "    visited = set()\n",
    "    unvisited = set(G.nodes)\n",
    "    distances = {u:0}\n",
    "    shortest_paths = {u:[u]}\n",
    "    for node in unvisited:\n",
    "        if node == u:\n",
    "            continue\n",
    "        else:\n",
    "            distances[node] = np.inf\n",
    "    cur_node = u\n",
    "    weight = 1 #set default weight for non-weighted graphs\n",
    "    while len(unvisited)>0:\n",
    "        if cur_node == v:\n",
    "            break\n",
    "        if min([distances[node] for node in unvisited]) == np.inf:\n",
    "            print(\"There is no path between u and v.\")\n",
    "            return np.nan\n",
    "        #Pull up neighbors\n",
    "        neighbors = G[cur_node]\n",
    "        for node in neighbors:\n",
    "            #Future update:Add weight update for weighted graphs\n",
    "            #Set either the distance through the current node or a previous shorter path\n",
    "            if distances[cur_node] + weight < distances[node]:\n",
    "                distances[node] = distances[cur_node] + weight\n",
    "                shortest_paths[node] = shortest_paths[cur_node] + [node]\n",
    "        #Mark current node as visited\n",
    "        visited.add(cur_node)\n",
    "        unvisited.remove(cur_node)\n",
    "        cur_node = sorted([(node, distances[node]) for node in unvisited], key=lambda x:x[1])[0][0] #Set the node with the minimum distance as the current node\n",
    "    if return_path_directions:\n",
    "        return shortest_paths[v], distances[v]\n",
    "    else:\n",
    "        return distances[v]"
   ]
  },
  {
   "cell_type": "markdown",
   "metadata": {},
   "source": [
    "Now check your updated function against the built in methods from NetworkX again."
   ]
  },
  {
   "cell_type": "code",
   "execution_count": 10,
   "metadata": {},
   "outputs": [
    {
     "name": "stdout",
     "output_type": "stream",
     "text": [
      "(['F', 'I', 'G'], 2) ['F', 'I', 'G'] 2\n",
      "\n",
      "\n",
      "\n",
      "(['I', 'G', 'B', 'A'], 3) ['I', 'G', 'C', 'A'] 3\n"
     ]
    }
   ],
   "source": [
    "#Your code here\n",
    "print(dijkstra(G, \"F\", \"G\"), nx.dijkstra_path(G, \"F\", \"G\"), nx.dijkstra_path_length(G, \"F\", \"G\"))\n",
    "print('\\n\\n')\n",
    "print(dijkstra(G, \"I\", \"A\"), nx.dijkstra_path(G, \"I\", \"A\"), nx.dijkstra_path_length(G, \"I\", \"A\"))"
   ]
  },
  {
   "cell_type": "markdown",
   "metadata": {},
   "source": [
    "## Level-Up: Creating a Visual\n",
    "\n",
    "Modify your function in order to produce successive plots to visualize the process of Dijkstra's algorithm. Plot the edges connecting the starting node to \"visited\" nodes using one color (ideally #00b3e6). Then, plot the current edge connecting the current node to the neighbor being explored with another color (ideally #ffd43d). Create a subplot of these graphs to show the process of the algorithm.\n",
    "\n",
    "Putting these plots together, you can also create a fun interactive visual of Dijkstra's algorithm!\n",
    "Here's what the search for the shortest path between `F` and `G` looks like:\n",
    "\n",
    "<img src=\"images/Dijkstra_Visualized.gif\">\n",
    "\n",
    "Or broken apart, here are the individual steps shown as subplots:\n",
    "\n",
    "<img src=\"images/dijkstra_subplots.png\">"
   ]
  },
  {
   "cell_type": "code",
   "execution_count": 19,
   "metadata": {
    "collapsed": true
   },
   "outputs": [],
   "source": [
    "#Your code here\n",
    "def dijkstra(G, u, v, return_path_directions=True, show_plots=True):\n",
    "    #Your code here\n",
    "    \"\"\"G is the graph in question.\n",
    "    u is the starting node\n",
    "    v is the destination node\n",
    "    \n",
    "    Returns path, distance\n",
    "    \"\"\"\n",
    "    if show_plots:\n",
    "        return_path_directions = True #must have path directions to generate plots\n",
    "    visited = set()\n",
    "    visited_edges = []\n",
    "    unvisited = set(G.nodes)\n",
    "    distances = {u:0}\n",
    "    shortest_paths = {u:[u]}\n",
    "    for node in unvisited:\n",
    "        if node == u:\n",
    "            continue\n",
    "        else:\n",
    "            distances[node] = np.inf\n",
    "    cur_node = u\n",
    "    weight = 1 #set default weight for non-weighted graphs\n",
    "    #Create the initial plot\n",
    "    if show_plots:\n",
    "        fig = plt.figure(figsize=(20,15))\n",
    "        ax = fig.add_subplot(561)\n",
    "        nx.draw(G, pos=nx.random_layout(G, seed=9), with_labels=True, node_color=\"#1cf0c7\",\n",
    "                node_size=500, font_weight=\"bold\", width=2, alpha=.8, ax=ax)\n",
    "        ax.set_title('Step 1')\n",
    "        plot_n = 2\n",
    "    while len(unvisited)>0:\n",
    "        if cur_node == v:\n",
    "            break\n",
    "        if min([distances[node] for node in unvisited]) == np.inf:\n",
    "            print(\"There is no path between u and v.\")\n",
    "            return np.nan\n",
    "        #Pull up neighbors\n",
    "        neighbors = G[cur_node]\n",
    "        for node in neighbors:\n",
    "            #Future update:Add weight update for weighted graphs\n",
    "            #Create a new graph of the neighbor being explored\n",
    "            if show_plots:\n",
    "                ax = fig.add_subplot(5,6,plot_n)\n",
    "                #Base Plot\n",
    "                nx.draw(G, pos=nx.random_layout(G, seed=9), with_labels=True, node_color=\"#1cf0c7\",\n",
    "                        node_size=500, font_weight=\"bold\", width=2, alpha=.8, ax=ax)\n",
    "                #Recolor paths to visited nodeds\n",
    "                nx.draw_networkx_edges(G, edgelist=visited_edges, pos=nx.random_layout(G, seed=9),\n",
    "                       width=3, edge_color=\"#00b3e6\", ax=ax);\n",
    "                #Recolor current path\n",
    "                nx.draw_networkx_edges(G, edgelist=[(cur_node, node)], pos=nx.random_layout(G, seed=9),\n",
    "                       width=3, edge_color=\"#ffd43d\", ax=ax);\n",
    "                ax.set_title('Step {}'.format(plot_n))\n",
    "                plot_n += 1\n",
    "            #Set either the distance through the current node or a previous shorter path\n",
    "            if distances[cur_node] + weight < distances[node]:\n",
    "                distances[node] = distances[cur_node] + weight\n",
    "                shortest_paths[node] = shortest_paths[cur_node] + [node]\n",
    "        #Mark current node as visited\n",
    "        visited.add(cur_node)\n",
    "        unvisited.remove(cur_node)\n",
    "        try:\n",
    "            #Will error for initial node\n",
    "            visited_edges.append((shortest_paths[cur_node][-2],cur_node))\n",
    "        except:\n",
    "            pass\n",
    "        #Update the plot for the visited node\n",
    "        if show_plots:\n",
    "            ax = fig.add_subplot(5,6,plot_n)\n",
    "            #Base Plot\n",
    "            nx.draw(G, pos=nx.random_layout(G, seed=9), with_labels=True, node_color=\"#1cf0c7\",\n",
    "                    node_size=500, font_weight=\"bold\", width=2, alpha=.8, ax=ax)\n",
    "            #Recolor paths to visited nodeds\n",
    "            nx.draw_networkx_edges(G, edgelist=visited_edges, pos=nx.random_layout(G, seed=9),\n",
    "                       width=3, edge_color=\"#00b3e6\", ax=ax);\n",
    "            ax.set_title('Step {}'.format(plot_n))\n",
    "            plot_n += 1\n",
    "            if plot_n >= 29:\n",
    "                plt.show()\n",
    "                return None\n",
    "        cur_node = sorted([(node, distances[node]) for node in unvisited], key=lambda x:x[1])[0][0] #Set the node with the minimum distance as the current node\n",
    "    if return_path_directions:\n",
    "        return shortest_paths[v], distances[v]\n",
    "    else:\n",
    "        return distances[v]"
   ]
  },
  {
   "cell_type": "code",
   "execution_count": 20,
   "metadata": {},
   "outputs": [
    {
     "ename": "TypeError",
     "evalue": "random_layout() got an unexpected keyword argument 'seed'",
     "output_type": "error",
     "traceback": [
      "\u001b[1;31m---------------------------------------------------------------------------\u001b[0m",
      "\u001b[1;31mTypeError\u001b[0m                                 Traceback (most recent call last)",
      "\u001b[1;32m<ipython-input-20-b0ecb4d25893>\u001b[0m in \u001b[0;36m<module>\u001b[1;34m()\u001b[0m\n\u001b[1;32m----> 1\u001b[1;33m \u001b[0mdijkstra\u001b[0m\u001b[1;33m(\u001b[0m\u001b[0mG\u001b[0m\u001b[1;33m,\u001b[0m \u001b[1;34m\"F\"\u001b[0m\u001b[1;33m,\u001b[0m \u001b[1;34m\"G\"\u001b[0m\u001b[1;33m)\u001b[0m\u001b[1;33m\u001b[0m\u001b[0m\n\u001b[0m",
      "\u001b[1;32m<ipython-input-19-8419d21b1d80>\u001b[0m in \u001b[0;36mdijkstra\u001b[1;34m(G, u, v, return_path_directions, show_plots)\u001b[0m\n\u001b[0;32m     26\u001b[0m         \u001b[0mfig\u001b[0m \u001b[1;33m=\u001b[0m \u001b[0mplt\u001b[0m\u001b[1;33m.\u001b[0m\u001b[0mfigure\u001b[0m\u001b[1;33m(\u001b[0m\u001b[0mfigsize\u001b[0m\u001b[1;33m=\u001b[0m\u001b[1;33m(\u001b[0m\u001b[1;36m20\u001b[0m\u001b[1;33m,\u001b[0m\u001b[1;36m15\u001b[0m\u001b[1;33m)\u001b[0m\u001b[1;33m)\u001b[0m\u001b[1;33m\u001b[0m\u001b[0m\n\u001b[0;32m     27\u001b[0m         \u001b[0max\u001b[0m \u001b[1;33m=\u001b[0m \u001b[0mfig\u001b[0m\u001b[1;33m.\u001b[0m\u001b[0madd_subplot\u001b[0m\u001b[1;33m(\u001b[0m\u001b[1;36m561\u001b[0m\u001b[1;33m)\u001b[0m\u001b[1;33m\u001b[0m\u001b[0m\n\u001b[1;32m---> 28\u001b[1;33m         nx.draw(G, pos=nx.random_layout(G, seed=9), with_labels=True, node_color=\"#1cf0c7\",\n\u001b[0m\u001b[0;32m     29\u001b[0m                 node_size=500, font_weight=\"bold\", width=2, alpha=.8, ax=ax)\n\u001b[0;32m     30\u001b[0m         \u001b[0max\u001b[0m\u001b[1;33m.\u001b[0m\u001b[0mset_title\u001b[0m\u001b[1;33m(\u001b[0m\u001b[1;34m'Step 1'\u001b[0m\u001b[1;33m)\u001b[0m\u001b[1;33m\u001b[0m\u001b[0m\n",
      "\u001b[1;31mTypeError\u001b[0m: random_layout() got an unexpected keyword argument 'seed'"
     ]
    },
    {
     "data": {
      "image/png": "[encoded data removed]",
      "text/plain": [
       "<matplotlib.figure.Figure at 0x96d1160>"
      ]
     },
     "metadata": {},
     "output_type": "display_data"
    }
   ],
   "source": [
    "dijkstra(G, \"F\", \"G\")"
   ]
  },
  {
   "cell_type": "markdown",
   "metadata": {},
   "source": [
    "## Summary \n",
    "\n",
    "\n",
    "Well done! In this lab, you deconstructed Dijkstra's algorithm and coded your own implementation! Finding the shortest path between nodes is a foundational concept in network theory and will help inform future concepts such as centrality and betweenness in order to further analyze the structures of graphs."
   ]
  }
 ],
 "metadata": {
  "kernelspec": {
   "display_name": "Python 3",
   "language": "python",
   "name": "python3"
  },
  "language_info": {
   "codemirror_mode": {
    "name": "ipython",
    "version": 3
   },
   "file_extension": ".py",
   "mimetype": "text/x-python",
   "name": "python",
   "nbconvert_exporter": "python",
   "pygments_lexer": "ipython3",
   "version": "3.6.3"
  }
 },
 "nbformat": 4,
 "nbformat_minor": 2
}
